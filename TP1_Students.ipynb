{
 "cells": [
  {
   "cell_type": "markdown",
   "metadata": {},
   "source": [
    "# Lab1 (Student version)\n",
    "## Students:\n",
    "## Jack Thay - 21201079\n",
    "## Thierry Ung - 3804472\n",
    "\n",
    "We can use the following libraries."
   ]
  },
  {
   "cell_type": "code",
   "execution_count": 2,
   "metadata": {},
   "outputs": [
    {
     "name": "stdout",
     "output_type": "stream",
     "text": [
      "3.9.6 (default, Sep 19 2022, 09:09:38) \n",
      "[GCC 10.2.1 20210110]\n"
     ]
    }
   ],
   "source": [
    "import matplotlib.pyplot as plt\n",
    "import math\n",
    "import sys\n",
    "print(sys.version)"
   ]
  },
  {
   "cell_type": "markdown",
   "metadata": {},
   "source": [
    "## Exercise 1: getting things started with undirected graphs"
   ]
  },
  {
   "cell_type": "markdown",
   "metadata": {},
   "source": [
    "### Question 1\n",
    "\n",
    "Create manually an undirected graph (with approximately a dozen nodes) _test_graph.txt_ and store it in a text file in the format (for each line):\n",
    "\n",
    "x    y \n",
    "\n",
    "Where x and y are separated with a tabulation. You will use them to test your codes."
   ]
  },
  {
   "cell_type": "markdown",
   "metadata": {},
   "source": [
    "### Question 2\n",
    "\n",
    "Download the following graphs (be careful these datasets are quite heavy):\n",
    "\n",
    "http://snap.stanford.edu/data/com-Amazon.html\n",
    "\n",
    "http://snap.stanford.edu/data/com-LiveJournal.html\n",
    "\n",
    "Also, download _graph.txt_ and _bugged_graph.txt_ from https://moodle-sciences-23.sorbonne-universite.fr\n",
    "\n",
    "These datasets allow you to check the results of your programs.\n"
   ]
  },
  {
   "cell_type": "markdown",
   "metadata": {},
   "source": [
    "### Question 3\n",
    "\n",
    "Make a program which reads a graph from a text file and counts the number of nodes and edges in a graph (without storing the graph in memory). "
   ]
  },
  {
   "cell_type": "code",
   "execution_count": 81,
   "metadata": {},
   "outputs": [],
   "source": [
    "def read_nodes_edges(graph):\n",
    "    with open(graph, 'r') as file: #opening file\n",
    "        nodes = set() #creating a list\n",
    "        edges = 0 #initializing edges to 0\n",
    "        for line in file:\n",
    "            if line.strip(): # In case there's an empty line\n",
    "                edge_info = line.strip().split() # splitting line\n",
    "                nodes.add(edge_info[0])\n",
    "                nodes.add(edge_info[1])\n",
    "                edges += 1 #incrementing edge count\n",
    "\n",
    "    num_nodes = len(nodes) #final count for nodes\n",
    "    num_edges = edges #final count for edges\n",
    "    print(f\"For {graph}, number of nodes and edges: [{num_nodes}] [{num_edges}]\")"
   ]
  },
  {
   "cell_type": "code",
   "execution_count": 82,
   "metadata": {},
   "outputs": [
    {
     "name": "stdout",
     "output_type": "stream",
     "text": [
      "For test_graph.txt, number of nodes and edges: [16] [15]\n",
      "{'7', '12', '15', '5', '4', '1', '6', '9', '10', '14', '8', '11', '2', '3', '13', '16'}\n"
     ]
    }
   ],
   "source": [
    "read_nodes_edges(\"test_graph.txt\")\n",
    "# Answer should be 16 nodes and 15 edges"
   ]
  },
  {
   "cell_type": "code",
   "execution_count": 47,
   "metadata": {},
   "outputs": [
    {
     "name": "stdout",
     "output_type": "stream",
     "text": [
      "Number of nodes for graph.txt: 10\n",
      "Number of edges for graph.txt: 15\n"
     ]
    }
   ],
   "source": [
    "read_nodes_edges(\"graph.txt\")\n",
    "# Answer should be 10 nodes and 15 edges"
   ]
  },
  {
   "cell_type": "markdown",
   "metadata": {},
   "source": [
    "### Question 3bis\n",
    "\n",
    "Apply the previous code to _bugged_graph.txt_ and then look at the content of the file. Does it correspond to the expected result? Explain in one sentence what the problem is."
   ]
  },
  {
   "cell_type": "code",
   "execution_count": 38,
   "metadata": {},
   "outputs": [
    {
     "name": "stdout",
     "output_type": "stream",
     "text": [
      "Number of nodes for bugged_graph.txt: 10\n",
      "Number of edges for bugged_graph.txt: 18\n"
     ]
    }
   ],
   "source": [
    "read_nodes_edges(\"bugged_graph.txt\")"
   ]
  },
  {
   "cell_type": "markdown",
   "metadata": {},
   "source": [
    "Answer: The number of edges is wrong, our function isn't able to see redundant links, since it's not storing anything in memory."
   ]
  },
  {
   "cell_type": "markdown",
   "metadata": {},
   "source": [
    "### Question 4\n",
    "\n",
    "Make a program which counts the degree (i.e. the number of edges) of a node of a graph (without storing it in memory)."
   ]
  },
  {
   "cell_type": "code",
   "execution_count": 70,
   "metadata": {},
   "outputs": [],
   "source": [
    "def count_node_degree(filename, target_node):\n",
    "    degree = 0\n",
    "    with open(filename, 'r') as file:\n",
    "        for line in file:\n",
    "            if line.strip(): # In case there's an empty line\n",
    "                edge_info = line.strip().split()\n",
    "                if target_node in edge_info:\n",
    "                    degree += 1 #incrementing degree count\n",
    "    print(f\"Node {target_node} from {filename}, degree: {degree}\")\n",
    "    # Code new message if the motherfucker gave us a node that doesn't exist"
   ]
  },
  {
   "cell_type": "code",
   "execution_count": 71,
   "metadata": {},
   "outputs": [
    {
     "name": "stdout",
     "output_type": "stream",
     "text": [
      "Node 1 from test_graph.txt, degree: 15\n"
     ]
    }
   ],
   "source": [
    "count_node_degree(\"test_graph.txt\", \"1\")\n",
    "# Answer should be 15 for node 1"
   ]
  },
  {
   "cell_type": "code",
   "execution_count": 72,
   "metadata": {},
   "outputs": [
    {
     "name": "stdout",
     "output_type": "stream",
     "text": [
      "Node 1 from graph.txt, degree: 4\n"
     ]
    }
   ],
   "source": [
    "count_node_degree(\"graph.txt\", \"1\")\n",
    "# Answer should be 4 for node 1"
   ]
  },
  {
   "cell_type": "markdown",
   "metadata": {},
   "source": [
    "Sidenote: bugged_graph.txt not tested, since our code can't detect duplicates."
   ]
  },
  {
   "cell_type": "markdown",
   "metadata": {},
   "source": [
    "## Exercise 2: loading a graph in memory"
   ]
  },
  {
   "cell_type": "markdown",
   "metadata": {},
   "source": [
    "### Question 5\n",
    "\n",
    "Make a program which reads a graph from a text file and load it as a python **dictionary of lists**. \n",
    "This implementation of the adjacency list format will be the standard format that we will use to store a graph in this course."
   ]
  },
  {
   "cell_type": "code",
   "execution_count": 66,
   "metadata": {},
   "outputs": [
    {
     "name": "stdout",
     "output_type": "stream",
     "text": [
      "{'2': ['1'], '1': ['2', '3', '4', '5', '6', '7', '8', '9', '10', '11', '12', '13', '14', '15', '16'], '3': ['1'], '4': ['1'], '5': ['1'], '6': ['1'], '7': ['1'], '8': ['1'], '9': ['1'], '10': ['1'], '11': ['1'], '12': ['1'], '13': ['1'], '14': ['1'], '15': ['1'], '16': ['1']}\n"
     ]
    }
   ],
   "source": [
    "def load_graph(filename):\n",
    "    adjacency_list = {}\n",
    "    with open(filename, 'r') as file:\n",
    "        for line in file:\n",
    "            if line.strip(): # Skip empty lines\n",
    "                edge_info = line.strip().split()\n",
    "                node1, node2 = edge_info[0], edge_info[1]\n",
    "\n",
    "                if node1 not in adjacency_list:\n",
    "                    adjacency_list[node1] = []\n",
    "\n",
    "                if node2 not in adjacency_list:\n",
    "                    adjacency_list[node2] = []\n",
    "\n",
    "                adjacency_list[node1].append(node2)\n",
    "                adjacency_list[node2].append(node1)\n",
    "\n",
    "    return adjacency_list\n",
    "\n",
    "# Example usage\n",
    "filename = 'test_graph.txt'\n",
    "adj_list = load_graph(filename)\n",
    "print(adj_list)"
   ]
  },
  {
   "cell_type": "markdown",
   "metadata": {},
   "source": [
    "### Question 6\n",
    "\n",
    "Make a program that deletes the self-loops and duplicated edges existing in the graph and writes it in a new text file. \n",
    "\n",
    "Use it on _bugged_graph.txt_ to create a graph _clean_graph.txt_ without self-loops and duplicated edges."
   ]
  },
  {
   "cell_type": "code",
   "execution_count": null,
   "metadata": {},
   "outputs": [],
   "source": []
  },
  {
   "cell_type": "markdown",
   "metadata": {},
   "source": [
    "### Question 7\n",
    "\n",
    "Try the data structure of Question 5 on the two graphs downloaded in Question 2, can you load them in memory? Can you print them on the screen?\n",
    "\n",
    "Conclude on the scalability (meaning what graph size can you handle with this data structure)."
   ]
  },
  {
   "cell_type": "code",
   "execution_count": null,
   "metadata": {},
   "outputs": [],
   "source": []
  },
  {
   "cell_type": "markdown",
   "metadata": {},
   "source": [
    "## Exercise 3: degree distribution"
   ]
  },
  {
   "cell_type": "markdown",
   "metadata": {},
   "source": [
    "### Question 8\n",
    "Create a program which computes the degree distribution of a graph, store it in a python dictionary of the form:\n",
    "\n",
    "deg: number of occurrences"
   ]
  },
  {
   "cell_type": "code",
   "execution_count": null,
   "metadata": {},
   "outputs": [],
   "source": []
  },
  {
   "cell_type": "markdown",
   "metadata": {},
   "source": [
    "### Question 9\n",
    "\n",
    "Plot the degree distribution in logarithmic scale (using matplotlib for example). Be careful to choose an adequate plotting style."
   ]
  },
  {
   "cell_type": "code",
   "execution_count": null,
   "metadata": {},
   "outputs": [],
   "source": []
  },
  {
   "cell_type": "markdown",
   "metadata": {},
   "source": [
    "## Exercise 3: the case of directed graphs"
   ]
  },
  {
   "cell_type": "markdown",
   "metadata": {},
   "source": [
    "### Question 10\n",
    "\n",
    "Download the following directed graph:\n",
    "\n",
    "http://konect.cc/networks/web-Google/\n",
    "\n",
    "By adapting your codes for undirected graphs to directed graphs, load it in memory into a double ajacency list format."
   ]
  },
  {
   "cell_type": "code",
   "execution_count": null,
   "metadata": {},
   "outputs": [],
   "source": []
  },
  {
   "cell_type": "markdown",
   "metadata": {},
   "source": [
    "### Question 11\n",
    "\n",
    "Plot in log-log scale both the in-degree distribution and the out-degree distribution of this graph."
   ]
  },
  {
   "cell_type": "code",
   "execution_count": null,
   "metadata": {},
   "outputs": [],
   "source": []
  }
 ],
 "metadata": {
  "kernelspec": {
   "display_name": "Python 3 (ipykernel)",
   "language": "python",
   "name": "python3"
  },
  "language_info": {
   "codemirror_mode": {
    "name": "ipython",
    "version": 3
   },
   "file_extension": ".py",
   "mimetype": "text/x-python",
   "name": "python",
   "nbconvert_exporter": "python",
   "pygments_lexer": "ipython3",
   "version": "3.9.6"
  }
 },
 "nbformat": 4,
 "nbformat_minor": 2
}
